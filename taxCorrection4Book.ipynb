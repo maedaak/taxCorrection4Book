{
  "nbformat": 4,
  "nbformat_minor": 0,
  "metadata": {
    "colab": {
      "provenance": [],
      "authorship_tag": "ABX9TyNNhLkwKGlyOi74zQDdp5lp",
      "include_colab_link": true
    },
    "kernelspec": {
      "name": "python3",
      "display_name": "Python 3"
    },
    "language_info": {
      "name": "python"
    }
  },
  "cells": [
    {
      "cell_type": "markdown",
      "metadata": {
        "id": "view-in-github",
        "colab_type": "text"
      },
      "source": [
        "<a href=\"https://colab.research.google.com/github/maedaak/taxCorrection4Book/blob/main/taxCorrection4Book.ipynb\" target=\"_parent\"><img src=\"https://colab.research.google.com/assets/colab-badge.svg\" alt=\"Open In Colab\"/></a>"
      ]
    },
    {
      "cell_type": "code",
      "execution_count": 12,
      "metadata": {
        "id": "zidYFJ45cnvS"
      },
      "outputs": [],
      "source": [
        "#!/usr/bin/env python3\n",
        "# -*- coding: utf-8 -*-\n",
        "from google.colab import files\n",
        "import pandas as pd\n",
        "import csv\n",
        "\n",
        "output_csv = 'result.csv'\n",
        "seikyuSogaku = 14117 # 請求総額をセット\n",
        "\n",
        "def hosei(data):\n",
        "  zeinukiKakaku = round(data[\"zeinukiKakaku\"] * 1.1)\n",
        "  data[\"hosei\"] = zeinukiKakaku\n",
        "  data[\"hosei\"] = data[\"hosei\"].astype('int')\n",
        "\n",
        "  zeinukiSogaku = data[\"zeinukiKakaku\"].sum()\n",
        "  shohizeiSogaku = seikyuSogaku - zeinukiSogaku\n",
        "  print(\"消費税総額\", end=\"\\t\")\n",
        "  print(shohizeiSogaku)\n",
        "  hasuu = seikyuSogaku - data[\"hosei\"].sum()\n",
        "  print(\"手作業で補正する端数金額\", end=\"\\t\")\n",
        "  print(hasuu)\n",
        "  iterate = int(abs(hasuu))\n",
        "  plus = 0\n",
        "  if hasuu > 0:\n",
        "    plus = 1\n",
        "\n",
        "  for i in range(iterate):\n",
        "    if plus:\n",
        "       data.loc[i, \"zeinukiKakaku\"] += 1\n",
        "    else:\n",
        "       data.loc[i, \"zeinukiKakaku\"] += -1\n",
        "\n",
        "  data.to_csv(output_csv, encoding='utf-8_sig', quoting=csv.QUOTE_ALL, index=False )\n",
        "  files.download(output_csv)\n",
        "\n"
      ]
    },
    {
      "cell_type": "code",
      "source": [
        "  if __name__ == \"__main__\":\n",
        "    data_row = []\n",
        "    uploaded = files.upload()\n",
        "    for fn in uploaded.keys():\n",
        "        pass\n",
        "    df = pd.read_csv(fn, sep=\"\\t\")"
      ],
      "metadata": {
        "id": "R2ru5wb1fseE"
      },
      "execution_count": null,
      "outputs": []
    },
    {
      "cell_type": "code",
      "source": [
        "    # Invoiceの金額補正計算\n",
        "    hosei(df)"
      ],
      "metadata": {
        "id": "6Fo5CkB2cxqq"
      },
      "execution_count": null,
      "outputs": []
    },
    {
      "cell_type": "code",
      "source": [],
      "metadata": {
        "id": "uICjarwAd9hQ"
      },
      "execution_count": null,
      "outputs": []
    }
  ]
}